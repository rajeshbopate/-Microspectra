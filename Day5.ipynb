{
  "nbformat": 4,
  "nbformat_minor": 0,
  "metadata": {
    "colab": {
      "name": "Day5.ipynb",
      "provenance": [],
      "authorship_tag": "ABX9TyPsqYred7pAvMl1D4RBjyEi",
      "include_colab_link": true
    },
    "kernelspec": {
      "name": "python3",
      "display_name": "Python 3"
    }
  },
  "cells": [
    {
      "cell_type": "markdown",
      "metadata": {
        "id": "view-in-github",
        "colab_type": "text"
      },
      "source": [
        "<a href=\"https://colab.research.google.com/github/rajeshbopate/-Microspectra/blob/main/Day5.ipynb\" target=\"_parent\"><img src=\"https://colab.research.google.com/assets/colab-badge.svg\" alt=\"Open In Colab\"/></a>"
      ]
    },
    {
      "cell_type": "code",
      "metadata": {
        "id": "CAE0ZLji5EIy",
        "outputId": "c92ed7b9-c1fa-44df-b064-6021929ae030",
        "colab": {
          "base_uri": "https://localhost:8080/",
          "height": 35
        }
      },
      "source": [
        "#Introduction to list in python\n",
        "Grocery = ['Wheat', 'Rice','Jowar', 'Oil','Soap','Sago','Turmeric powder']\n",
        "print(Grocery)"
      ],
      "execution_count": 14,
      "outputs": [
        {
          "output_type": "stream",
          "text": [
            "['Wheat', 'Rice', 'Jowar', 'Oil', 'Soap', 'Sago', 'Turmeric powder']\n"
          ],
          "name": "stdout"
        }
      ]
    },
    {
      "cell_type": "code",
      "metadata": {
        "id": "7efcCm8v5pks",
        "outputId": "736abf0b-9ad5-4012-a88f-a10f54ed627f",
        "colab": {
          "base_uri": "https://localhost:8080/",
          "height": 35
        }
      },
      "source": [
        "#How to find type of list\n",
        "print(type(Grocery))"
      ],
      "execution_count": 2,
      "outputs": [
        {
          "output_type": "stream",
          "text": [
            "<class 'list'>\n"
          ],
          "name": "stdout"
        }
      ]
    },
    {
      "cell_type": "code",
      "metadata": {
        "id": "VtxEvq7o58Fx",
        "outputId": "3e87896f-d53f-452d-abb0-9f31254a8c07",
        "colab": {
          "base_uri": "https://localhost:8080/",
          "height": 35
        }
      },
      "source": [
        "#List is collection of hetrogenous data variables\n",
        "a = ['1', '2.5', 'Rajesh', '@', '58']\n",
        "print(a)"
      ],
      "execution_count": 8,
      "outputs": [
        {
          "output_type": "stream",
          "text": [
            "['1', '2.5', 'Rajesh', '@', '58']\n"
          ],
          "name": "stdout"
        }
      ]
    },
    {
      "cell_type": "code",
      "metadata": {
        "id": "6HlOGwZ465VL",
        "outputId": "0368f7db-707a-4bba-b2ba-9ea6f0375673",
        "colab": {
          "base_uri": "https://localhost:8080/",
          "height": 35
        }
      },
      "source": [
        "# Accessing a element from list by indexing\n",
        "Grocery = ['Wheat', 'Rice','Jowar', 'Oil','Soap','Sago','Turmeric powder']\n",
        "print(Grocery[3])"
      ],
      "execution_count": 15,
      "outputs": [
        {
          "output_type": "stream",
          "text": [
            "Oil\n"
          ],
          "name": "stdout"
        }
      ]
    },
    {
      "cell_type": "code",
      "metadata": {
        "id": "30cEB2g370VK",
        "outputId": "bf4aa5d9-1d54-4540-ac6c-ef3bc283c0ef",
        "colab": {
          "base_uri": "https://localhost:8080/",
          "height": 35
        }
      },
      "source": [
        "# Negative indexing in list\n",
        "print(Grocery[-1])"
      ],
      "execution_count": 16,
      "outputs": [
        {
          "output_type": "stream",
          "text": [
            "Turmeric powder\n"
          ],
          "name": "stdout"
        }
      ]
    },
    {
      "cell_type": "code",
      "metadata": {
        "id": "XvmI_wnS8Ju4",
        "outputId": "75fb4945-2f81-4061-9db0-4ff543e149df",
        "colab": {
          "base_uri": "https://localhost:8080/",
          "height": 35
        }
      },
      "source": [
        "# Range of indexes in list\n",
        "print(Grocery[0:7])"
      ],
      "execution_count": 17,
      "outputs": [
        {
          "output_type": "stream",
          "text": [
            "['Wheat', 'Rice', 'Jowar', 'Oil', 'Soap', 'Sago', 'Turmeric powder']\n"
          ],
          "name": "stdout"
        }
      ]
    },
    {
      "cell_type": "code",
      "metadata": {
        "id": "zrLQvy_69Om3",
        "outputId": "d8bf775f-406b-42e9-aafd-fddc2a6c5a83",
        "colab": {
          "base_uri": "https://localhost:8080/",
          "height": 35
        }
      },
      "source": [
        "#It print default end element in list\n",
        "print(Grocery[0:])"
      ],
      "execution_count": 19,
      "outputs": [
        {
          "output_type": "stream",
          "text": [
            "['Wheat', 'Rice', 'Jowar', 'Oil', 'Soap', 'Sago', 'Turmeric powder']\n"
          ],
          "name": "stdout"
        }
      ]
    },
    {
      "cell_type": "code",
      "metadata": {
        "id": "nB7pboMc9jJe",
        "outputId": "b537493f-d47f-4b8b-e6b2-d3f47c017c30",
        "colab": {
          "base_uri": "https://localhost:8080/",
          "height": 35
        }
      },
      "source": [
        "print(Grocery[:7])"
      ],
      "execution_count": 21,
      "outputs": [
        {
          "output_type": "stream",
          "text": [
            "['Wheat', 'Rice', 'Jowar', 'Oil', 'Soap', 'Sago', 'Turmeric powder']\n"
          ],
          "name": "stdout"
        }
      ]
    },
    {
      "cell_type": "code",
      "metadata": {
        "id": "I-HcUq1f91Va",
        "outputId": "126ccc5d-81bf-4966-badf-ff3d613e2c1f",
        "colab": {
          "base_uri": "https://localhost:8080/",
          "height": 35
        }
      },
      "source": [
        "#How to skip elements by range in list\n",
        "print(Grocery[0:8:2])"
      ],
      "execution_count": 22,
      "outputs": [
        {
          "output_type": "stream",
          "text": [
            "['Wheat', 'Jowar', 'Soap', 'Turmeric powder']\n"
          ],
          "name": "stdout"
        }
      ]
    },
    {
      "cell_type": "code",
      "metadata": {
        "id": "FZCgMoJ2-RKG",
        "outputId": "80f5e170-7d06-4765-fb11-d48ff88e9564",
        "colab": {
          "base_uri": "https://localhost:8080/",
          "height": 35
        }
      },
      "source": [
        "# Negative Indexing\n",
        "print(Grocery[-6:-1])"
      ],
      "execution_count": 25,
      "outputs": [
        {
          "output_type": "stream",
          "text": [
            "['Rice', 'Jowar', 'Oil', 'Soap', 'Sago']\n"
          ],
          "name": "stdout"
        }
      ]
    },
    {
      "cell_type": "code",
      "metadata": {
        "id": "BofEXUGR-sJV",
        "outputId": "6b8258e9-772a-46b3-acc0-88fe8a46b17e",
        "colab": {
          "base_uri": "https://localhost:8080/",
          "height": 35
        }
      },
      "source": [
        "print(Grocery[0:-6])"
      ],
      "execution_count": 27,
      "outputs": [
        {
          "output_type": "stream",
          "text": [
            "['Wheat']\n"
          ],
          "name": "stdout"
        }
      ]
    },
    {
      "cell_type": "code",
      "metadata": {
        "id": "jWgbSEX1-9E6",
        "outputId": "d8a26851-df7f-464f-9de1-ffe10034a210",
        "colab": {
          "base_uri": "https://localhost:8080/",
          "height": 109
        }
      },
      "source": [
        "# Assignment preparing a list of my friends name and accessing one at a time\n",
        "name = ['krishna','nilesh','mahesh','mangesh','ankush']\n",
        "print(name[0])\n",
        "print(name[1])\n",
        "print(name[2])\n",
        "print(name[3])\n",
        "print(name[4])"
      ],
      "execution_count": 28,
      "outputs": [
        {
          "output_type": "stream",
          "text": [
            "krishna\n",
            "nilesh\n",
            "mahesh\n",
            "mangesh\n",
            "ankush\n"
          ],
          "name": "stdout"
        }
      ]
    },
    {
      "cell_type": "code",
      "metadata": {
        "id": "pawC2FI8CAjZ",
        "outputId": "8816a1f1-ab6f-45ce-e175-a2a955396c84",
        "colab": {
          "base_uri": "https://localhost:8080/",
          "height": 35
        }
      },
      "source": [
        "# Transportation list\n",
        "car = ('audi','toyota','tawera','suzuki')\n",
        "print(car)"
      ],
      "execution_count": 34,
      "outputs": [
        {
          "output_type": "stream",
          "text": [
            "('audi', 'toyota', 'tawera', 'suzuki')\n"
          ],
          "name": "stdout"
        }
      ]
    },
    {
      "cell_type": "code",
      "metadata": {
        "id": "nhXeWzHdB85M"
      },
      "source": [
        ""
      ],
      "execution_count": null,
      "outputs": []
    }
  ]
}