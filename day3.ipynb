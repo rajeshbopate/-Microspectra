{
  "nbformat": 4,
  "nbformat_minor": 0,
  "metadata": {
    "colab": {
      "name": "day3.ipynb",
      "provenance": [],
      "toc_visible": true,
      "authorship_tag": "ABX9TyNVc44QoPdKgO+ublKf+5yj",
      "include_colab_link": true
    },
    "kernelspec": {
      "name": "python3",
      "display_name": "Python 3"
    }
  },
  "cells": [
    {
      "cell_type": "markdown",
      "metadata": {
        "id": "view-in-github",
        "colab_type": "text"
      },
      "source": [
        "<a href=\"https://colab.research.google.com/github/rajeshbopate/-Microspectra/blob/main/day3.ipynb\" target=\"_parent\"><img src=\"https://colab.research.google.com/assets/colab-badge.svg\" alt=\"Open In Colab\"/></a>"
      ]
    },
    {
      "cell_type": "code",
      "metadata": {
        "id": "KMPNamKJ57-o",
        "outputId": "adf3a40c-3a21-483c-c202-bd4cfece3efe",
        "colab": {
          "base_uri": "https://localhost:8080/",
          "height": 458
        }
      },
      "source": [
        "#indexing in python\n",
        "#operations on python\n",
        "str = \"Microspectra\"\n",
        "print(str[0])\n",
        "print(str[1])\n",
        "print(str[2])\n",
        "print(str[3])\n",
        "print(str[4])\n",
        "print(str[5])\n",
        "print(str[6])\n",
        "print(str[7])\n",
        "print(str[8])\n",
        "print(str[9])\n",
        "print(str[10])\n",
        "print(str[11])\n",
        "print(str[-1])\n",
        "print(str[-2])\n",
        "print(str[-3])\n",
        "print(str[-4])\n",
        "print(str[-5])\n",
        "print(str[-6])\n",
        "print(str[-7])\n",
        "print(str[-8])\n",
        "print(str[-9])\n",
        "print(str[-10])\n",
        "print(str[-11])\n",
        "print(str[-12])\n",
        "\n",
        "\n"
      ],
      "execution_count": 5,
      "outputs": [
        {
          "output_type": "stream",
          "text": [
            "M\n",
            "i\n",
            "c\n",
            "r\n",
            "o\n",
            "s\n",
            "p\n",
            "e\n",
            "c\n",
            "t\n",
            "r\n",
            "a\n",
            "a\n",
            "r\n",
            "t\n",
            "c\n",
            "e\n",
            "p\n",
            "s\n",
            "o\n",
            "r\n",
            "c\n",
            "i\n",
            "M\n"
          ],
          "name": "stdout"
        }
      ]
    },
    {
      "cell_type": "code",
      "metadata": {
        "id": "ChxsASMe9giy",
        "outputId": "fccb4cd8-4266-44f4-d797-0720b81ed0d4",
        "colab": {
          "base_uri": "https://localhost:8080/",
          "height": 36
        }
      },
      "source": [
        "str[0:6]"
      ],
      "execution_count": 7,
      "outputs": [
        {
          "output_type": "execute_result",
          "data": {
            "application/vnd.google.colaboratory.intrinsic+json": {
              "type": "string"
            },
            "text/plain": [
              "'Micros'"
            ]
          },
          "metadata": {
            "tags": []
          },
          "execution_count": 7
        }
      ]
    },
    {
      "cell_type": "code",
      "metadata": {
        "id": "9SRA6GRo9sJH",
        "outputId": "c57c49d9-3480-43c4-c8e0-c7969d51f6c0",
        "colab": {
          "base_uri": "https://localhost:8080/",
          "height": 36
        }
      },
      "source": [
        "str[0:]"
      ],
      "execution_count": 10,
      "outputs": [
        {
          "output_type": "execute_result",
          "data": {
            "application/vnd.google.colaboratory.intrinsic+json": {
              "type": "string"
            },
            "text/plain": [
              "'Microspe'"
            ]
          },
          "metadata": {
            "tags": []
          },
          "execution_count": 10
        }
      ]
    },
    {
      "cell_type": "code",
      "metadata": {
        "id": "-h84dhV2-Hcs",
        "outputId": "42d3e15d-6b12-48bc-f7fd-e04979cb6e52",
        "colab": {
          "base_uri": "https://localhost:8080/",
          "height": 36
        }
      },
      "source": [
        "str[0:10:2]"
      ],
      "execution_count": 12,
      "outputs": [
        {
          "output_type": "execute_result",
          "data": {
            "application/vnd.google.colaboratory.intrinsic+json": {
              "type": "string"
            },
            "text/plain": [
              "'Mcopc'"
            ]
          },
          "metadata": {
            "tags": []
          },
          "execution_count": 12
        }
      ]
    }
  ]
}