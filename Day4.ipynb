{
  "nbformat": 4,
  "nbformat_minor": 0,
  "metadata": {
    "colab": {
      "name": "Day4.ipynb",
      "provenance": [],
      "authorship_tag": "ABX9TyPyqKTA56cRWX/wdEUPA5OQ",
      "include_colab_link": true
    },
    "kernelspec": {
      "name": "python3",
      "display_name": "Python 3"
    }
  },
  "cells": [
    {
      "cell_type": "markdown",
      "metadata": {
        "id": "view-in-github",
        "colab_type": "text"
      },
      "source": [
        "<a href=\"https://colab.research.google.com/github/rajeshbopate/-Microspectra/blob/main/Day4.ipynb\" target=\"_parent\"><img src=\"https://colab.research.google.com/assets/colab-badge.svg\" alt=\"Open In Colab\"/></a>"
      ]
    },
    {
      "cell_type": "code",
      "metadata": {
        "id": "tKs7_doMjPYF",
        "outputId": "e2b86971-9bb1-4693-cd49-b00f2fb5cbaa",
        "colab": {
          "base_uri": "https://localhost:8080/",
          "height": 35
        }
      },
      "source": [
        "#creating a variable with integer value\n",
        "a=50\n",
        "print(\"The type of variable having value\", a, \" is \", type(a))"
      ],
      "execution_count": 59,
      "outputs": [
        {
          "output_type": "stream",
          "text": [
            "The type of variable having value 50  is  <class 'int'>\n"
          ],
          "name": "stdout"
        }
      ]
    },
    {
      "cell_type": "code",
      "metadata": {
        "id": "WZ5F8r4cjzEN",
        "outputId": "dc8bd316-1915-4390-fc69-33c2024fd5b4",
        "colab": {
          "base_uri": "https://localhost:8080/",
          "height": 35
        }
      },
      "source": [
        "#Integer to Binary Conversion bin()\n",
        "a=55\n",
        "print(\"The type of variable having value\", bin(a), \" is \", type(a))"
      ],
      "execution_count": 60,
      "outputs": [
        {
          "output_type": "stream",
          "text": [
            "The type of variable having value 0b110111  is  <class 'int'>\n"
          ],
          "name": "stdout"
        }
      ]
    },
    {
      "cell_type": "code",
      "metadata": {
        "id": "BFbRjnI5kHZC",
        "outputId": "5105fbbc-9c9b-4b69-f1b8-a1bd3ff837a0",
        "colab": {
          "base_uri": "https://localhost:8080/",
          "height": 35
        }
      },
      "source": [
        "#Binary to Integer Conversion prefix 0b (zero + lowercase letter 'b')\n",
        "a=0b00111\n",
        "print(\"The type of variable having value\", int(a), \" is \", type(a))"
      ],
      "execution_count": 61,
      "outputs": [
        {
          "output_type": "stream",
          "text": [
            "The type of variable having value 7  is  <class 'int'>\n"
          ],
          "name": "stdout"
        }
      ]
    },
    {
      "cell_type": "code",
      "metadata": {
        "id": "mFHiSv-wkLTg",
        "outputId": "354c121b-bb5f-4c91-9937-24443874767e",
        "colab": {
          "base_uri": "https://localhost:8080/",
          "height": 35
        }
      },
      "source": [
        "# exp2 Binary to Integer Conversion 0B (zero + uppercase letter 'B')\n",
        "a = -0B1100\n",
        "print(\"The type of variable having value\", int(a), \" is \", type(a))"
      ],
      "execution_count": 62,
      "outputs": [
        {
          "output_type": "stream",
          "text": [
            "The type of variable having value -12  is  <class 'int'>\n"
          ],
          "name": "stdout"
        }
      ]
    },
    {
      "cell_type": "code",
      "metadata": {
        "id": "ChDPRjVNkPHS",
        "outputId": "04a57d54-ada3-42c8-9092-f3a4a6889cd8",
        "colab": {
          "base_uri": "https://localhost:8080/",
          "height": 35
        }
      },
      "source": [
        "#Integer to Octal Conversion oct()\n",
        "a = 15\n",
        "print(\"The type of variable having value\", oct(a), \" is \", type(a))"
      ],
      "execution_count": 63,
      "outputs": [
        {
          "output_type": "stream",
          "text": [
            "The type of variable having value 0o17  is  <class 'int'>\n"
          ],
          "name": "stdout"
        }
      ]
    },
    {
      "cell_type": "code",
      "metadata": {
        "id": "L-icy8B0kUGY",
        "outputId": "6e05dd85-8ed8-42b6-a3f5-f9f1f99bccbb",
        "colab": {
          "base_uri": "https://localhost:8080/",
          "height": 35
        }
      },
      "source": [
        "#Octal To Integer Conversion 0o (zero + lowercase letter 'o')\n",
        "a = 0o1101\n",
        "print(\"The type of variable having value\", int(a), \" is \", type(a))"
      ],
      "execution_count": 64,
      "outputs": [
        {
          "output_type": "stream",
          "text": [
            "The type of variable having value 577  is  <class 'int'>\n"
          ],
          "name": "stdout"
        }
      ]
    },
    {
      "cell_type": "code",
      "metadata": {
        "id": "eDkUAyJykXn_",
        "outputId": "953d96fd-3bbd-46d6-b40b-666511c61386",
        "colab": {
          "base_uri": "https://localhost:8080/",
          "height": 35
        }
      },
      "source": [
        "#Octal To Integer Conversion 0O (zero + uppercase letter O )\n",
        "a = 0O1111\n",
        "print(\"The type of variable having value\", int(a), \" is \", type(a))"
      ],
      "execution_count": 65,
      "outputs": [
        {
          "output_type": "stream",
          "text": [
            "The type of variable having value 585  is  <class 'int'>\n"
          ],
          "name": "stdout"
        }
      ]
    },
    {
      "cell_type": "code",
      "metadata": {
        "id": "w7QjuocYkf1o",
        "outputId": "39a866e1-dba9-48ba-aa4e-97ab0e81f742",
        "colab": {
          "base_uri": "https://localhost:8080/",
          "height": 35
        }
      },
      "source": [
        "#Integer to Hexadecimal Conversion hex()\n",
        "a = 53\n",
        "print(\"The type of variable having value\", hex(a), \" is \", type(a))"
      ],
      "execution_count": 66,
      "outputs": [
        {
          "output_type": "stream",
          "text": [
            "The type of variable having value 0x35  is  <class 'int'>\n"
          ],
          "name": "stdout"
        }
      ]
    },
    {
      "cell_type": "code",
      "metadata": {
        "id": "ByqYGF9mkjD_",
        "outputId": "9723daeb-07c8-4051-c4b8-6c47baa4a7f0",
        "colab": {
          "base_uri": "https://localhost:8080/",
          "height": 35
        }
      },
      "source": [
        "#Hexadeciaml to Integer Conversion 0X (zero + uppercase letter 'X')\n",
        "a = 0XFace\n",
        "print(\"The type of variable having value\", int(a), \" is \", type(a))"
      ],
      "execution_count": 67,
      "outputs": [
        {
          "output_type": "stream",
          "text": [
            "The type of variable having value 64206  is  <class 'int'>\n"
          ],
          "name": "stdout"
        }
      ]
    },
    {
      "cell_type": "code",
      "metadata": {
        "id": "VtkbvWNwknAG",
        "outputId": "01c33cc1-cbb9-4e92-a21e-5d88095ee3ff",
        "colab": {
          "base_uri": "https://localhost:8080/",
          "height": 35
        }
      },
      "source": [
        "#Hexadecimal to Integer Conversion 0x (zero + lowercase letter 'x')\n",
        "a = 0xBeef\n",
        "print(\"The type of variable having value\", int(a), \" is \", type(a))"
      ],
      "execution_count": 68,
      "outputs": [
        {
          "output_type": "stream",
          "text": [
            "The type of variable having value 48879  is  <class 'int'>\n"
          ],
          "name": "stdout"
        }
      ]
    },
    {
      "cell_type": "code",
      "metadata": {
        "id": "eySQG7EnkqgB",
        "outputId": "63120875-c4ad-4e97-e0a5-8af2b4ace3c2",
        "colab": {
          "base_uri": "https://localhost:8080/",
          "height": 35
        }
      },
      "source": [
        "print(5555241 + 1)"
      ],
      "execution_count": 69,
      "outputs": [
        {
          "output_type": "stream",
          "text": [
            "5555242\n"
          ],
          "name": "stdout"
        }
      ]
    },
    {
      "cell_type": "code",
      "metadata": {
        "id": "LS0SNr2SkwCn",
        "outputId": "46c9b787-a02b-4e31-a066-29d16ee9c987",
        "colab": {
          "base_uri": "https://localhost:8080/",
          "height": 35
        }
      },
      "source": [
        "#create a variable with float value. dollar price\n",
        "b=2.53\n",
        "print(\"The type of variable having value\", b, \" is \", type(b))"
      ],
      "execution_count": 70,
      "outputs": [
        {
          "output_type": "stream",
          "text": [
            "The type of variable having value 2.53  is  <class 'float'>\n"
          ],
          "name": "stdout"
        }
      ]
    },
    {
      "cell_type": "code",
      "metadata": {
        "id": "oze407cpk26e",
        "outputId": "2c681dd1-6232-4d81-9687-8f1939b98450",
        "colab": {
          "base_uri": "https://localhost:8080/",
          "height": 35
        }
      },
      "source": [
        "#Specify value in Exponential Form\n",
        "b = 2.2e3\n",
        "print(\"The type of variable having value\", b, \" is \", type(b))"
      ],
      "execution_count": 71,
      "outputs": [
        {
          "output_type": "stream",
          "text": [
            "The type of variable having value 2200.0  is  <class 'float'>\n"
          ],
          "name": "stdout"
        }
      ]
    },
    {
      "cell_type": "code",
      "metadata": {
        "id": "PsCTsL5kk632",
        "outputId": "1739c914-7e66-4440-db02-535b4e7bf7c6",
        "colab": {
          "base_uri": "https://localhost:8080/",
          "height": 35
        }
      },
      "source": [
        "#create a variable with complex value.\n",
        "c=57+3j\n",
        "print(\"The type of variable having value\", c, \" is \", type(c))"
      ],
      "execution_count": 72,
      "outputs": [
        {
          "output_type": "stream",
          "text": [
            "The type of variable having value (57+3j)  is  <class 'complex'>\n"
          ],
          "name": "stdout"
        }
      ]
    },
    {
      "cell_type": "code",
      "metadata": {
        "id": "I_H9O4BolEYV",
        "outputId": "ab377d0d-de5d-4bd4-e080-0842e3132535",
        "colab": {
          "base_uri": "https://localhost:8080/",
          "height": 54
        }
      },
      "source": [
        "#Checking Real and Imaginary part\n",
        "c=57+3j\n",
        "print(\"The real part is\", c.real)\n",
        "print(\"The iamginary part is\", c.imag)"
      ],
      "execution_count": 73,
      "outputs": [
        {
          "output_type": "stream",
          "text": [
            "The real part is 57.0\n",
            "The iamginary part is 3.0\n"
          ],
          "name": "stdout"
        }
      ]
    },
    {
      "cell_type": "code",
      "metadata": {
        "id": "MuQAgZfClIpz",
        "outputId": "3819a9f2-e5c2-4a64-9706-3c8ca80dae0b",
        "colab": {
          "base_uri": "https://localhost:8080/",
          "height": 35
        }
      },
      "source": [
        "#create a variable with complex value. (real part as binary)\n",
        "c=0b0011+3j\n",
        "print(\"The type of variable having value\", c, \" is \", type(c))"
      ],
      "execution_count": 74,
      "outputs": [
        {
          "output_type": "stream",
          "text": [
            "The type of variable having value (3+3j)  is  <class 'complex'>\n"
          ],
          "name": "stdout"
        }
      ]
    },
    {
      "cell_type": "code",
      "metadata": {
        "id": "cXu2pbPvlNcz",
        "outputId": "e0616acb-9d13-40a7-adfe-cb1df5f660e0",
        "colab": {
          "base_uri": "https://localhost:8080/",
          "height": 35
        }
      },
      "source": [
        "#create a variable with complex value. (real part as octal)\n",
        "c=0o1001+3j\n",
        "print(\"The type of variable having value\", c, \" is \", type(c))"
      ],
      "execution_count": 75,
      "outputs": [
        {
          "output_type": "stream",
          "text": [
            "The type of variable having value (513+3j)  is  <class 'complex'>\n"
          ],
          "name": "stdout"
        }
      ]
    },
    {
      "cell_type": "code",
      "metadata": {
        "id": "z7s2rQaMlRPs",
        "outputId": "e91fd1e9-ec67-4497-ce39-3b5ae5a044fb",
        "colab": {
          "base_uri": "https://localhost:8080/",
          "height": 35
        }
      },
      "source": [
        "#create a variable with complex value. (real part as hexadecimal)\n",
        "c=0xaabb+3j\n",
        "print(\"The type of variable having value\", c, \" is \", type(c))"
      ],
      "execution_count": 76,
      "outputs": [
        {
          "output_type": "stream",
          "text": [
            "The type of variable having value (43707+3j)  is  <class 'complex'>\n"
          ],
          "name": "stdout"
        }
      ]
    },
    {
      "cell_type": "code",
      "metadata": {
        "id": "VdF28bZLlVP2",
        "outputId": "af83225a-e56b-4d6f-f791-3f7a6ed28718",
        "colab": {
          "base_uri": "https://localhost:8080/",
          "height": 35
        }
      },
      "source": [
        "#Converting Integer to Float\n",
        "a=50\n",
        "print(\"Type conversion to float \", float(a))"
      ],
      "execution_count": 77,
      "outputs": [
        {
          "output_type": "stream",
          "text": [
            "Type conversion to float  50.0\n"
          ],
          "name": "stdout"
        }
      ]
    },
    {
      "cell_type": "code",
      "metadata": {
        "id": "dyAUakmClglZ",
        "outputId": "05902b29-4523-4b19-8f18-89f164a87320",
        "colab": {
          "base_uri": "https://localhost:8080/",
          "height": 35
        }
      },
      "source": [
        "#Converting Integer to complex\n",
        "a=48\n",
        "print(\"Type conversion to float \", complex(a))"
      ],
      "execution_count": 78,
      "outputs": [
        {
          "output_type": "stream",
          "text": [
            "Type conversion to float  (48+0j)\n"
          ],
          "name": "stdout"
        }
      ]
    },
    {
      "cell_type": "code",
      "metadata": {
        "id": "yc0ZUw5FlrOh",
        "outputId": "75c33e1d-2921-4707-841c-34c921cc7efd",
        "colab": {
          "base_uri": "https://localhost:8080/",
          "height": 35
        }
      },
      "source": [
        "#converting a variable with float value to Integer\n",
        "b=2.58\n",
        "print(\"Flaot to integer is\", int(b))"
      ],
      "execution_count": 79,
      "outputs": [
        {
          "output_type": "stream",
          "text": [
            "Flaot to integer is 2\n"
          ],
          "name": "stdout"
        }
      ]
    },
    {
      "cell_type": "code",
      "metadata": {
        "id": "nTit46FYlwI_",
        "outputId": "1cda1209-1e0d-4391-f913-382145a2220c",
        "colab": {
          "base_uri": "https://localhost:8080/",
          "height": 35
        }
      },
      "source": [
        "#converting a variable with float value Complex\n",
        "b=7.52\n",
        "print(\"Float to Complex is\", complex(b))"
      ],
      "execution_count": 80,
      "outputs": [
        {
          "output_type": "stream",
          "text": [
            "Float to Complex is (7.52+0j)\n"
          ],
          "name": "stdout"
        }
      ]
    },
    {
      "cell_type": "code",
      "metadata": {
        "id": "3EaEk-vol15L",
        "outputId": "d1c713e3-a820-44a0-d9d8-6844d756302f",
        "colab": {
          "base_uri": "https://localhost:8080/",
          "height": 35
        }
      },
      "source": [
        "# using format() to print value till 3 decimal places\n",
        "print (\"The value of number till 3 decimal place(using format()) is : \",end=\"\")\n",
        "print (\"{0:.3f}\".format(a))"
      ],
      "execution_count": 81,
      "outputs": [
        {
          "output_type": "stream",
          "text": [
            "The value of number till 3 decimal place(using format()) is : 48.000\n"
          ],
          "name": "stdout"
        }
      ]
    },
    {
      "cell_type": "code",
      "metadata": {
        "id": "HOR2vxm2mKCf",
        "outputId": "1fba67a5-1ba8-498d-e0b2-55a13ae97fe3",
        "colab": {
          "base_uri": "https://localhost:8080/",
          "height": 35
        }
      },
      "source": [
        "# using round() to print value till 1 decimal places\n",
        "print (\"The value of number till 1 decimal place(using round()) is : \",end=\"\")\n",
        "print (round(a,1))"
      ],
      "execution_count": 82,
      "outputs": [
        {
          "output_type": "stream",
          "text": [
            "The value of number till 1 decimal place(using round()) is : 48\n"
          ],
          "name": "stdout"
        }
      ]
    },
    {
      "cell_type": "code",
      "metadata": {
        "id": "l2aBPBCRmYLV",
        "outputId": "4545f6ca-579f-401b-b19e-60302357dd3a",
        "colab": {
          "base_uri": "https://localhost:8080/",
          "height": 54
        }
      },
      "source": [
        "a = \"Rajesh\"\n",
        "b= 'Bopte'\n",
        "print(a)\n",
        "print(b)"
      ],
      "execution_count": 6,
      "outputs": [
        {
          "output_type": "stream",
          "text": [
            "Rajesh\n",
            "Bopte\n"
          ],
          "name": "stdout"
        }
      ]
    },
    {
      "cell_type": "code",
      "metadata": {
        "id": "vfccywQzm1TL",
        "outputId": "4a8be7a2-2371-4a79-f830-a2c149b06f43",
        "colab": {
          "base_uri": "https://localhost:8080/",
          "height": 35
        }
      },
      "source": [
        "# using ',' to concatenate the two or several strings\n",
        "print(a+b)"
      ],
      "execution_count": 11,
      "outputs": [
        {
          "output_type": "stream",
          "text": [
            "RajeshBopte\n"
          ],
          "name": "stdout"
        }
      ]
    },
    {
      "cell_type": "code",
      "metadata": {
        "id": "YNghBdJUnDJx",
        "outputId": "de0befda-31e7-404b-e18f-d2c9df849c91",
        "colab": {
          "base_uri": "https://localhost:8080/",
          "height": 35
        }
      },
      "source": [
        "#using '+' to concate the two or several strings\n",
        "print(a+\" concated with \"+b)"
      ],
      "execution_count": 12,
      "outputs": [
        {
          "output_type": "stream",
          "text": [
            "Rajesh concated with Bopte\n"
          ],
          "name": "stdout"
        }
      ]
    },
    {
      "cell_type": "code",
      "metadata": {
        "id": "TaRUAvHCnF4y",
        "outputId": "3cb67652-6ca5-413d-95a5-66660697ea22",
        "colab": {
          "base_uri": "https://localhost:8080/",
          "height": 35
        }
      },
      "source": [
        "element = \"Rajesh\"\n",
        "count = 5\n",
        "print (\"The item {} is repeated {} times\".format(element,count))"
      ],
      "execution_count": 5,
      "outputs": [
        {
          "output_type": "stream",
          "text": [
            "The item Rajesh is repeated 5 times\n"
          ],
          "name": "stdout"
        }
      ]
    },
    {
      "cell_type": "code",
      "metadata": {
        "id": "krxoV8L_nVyx",
        "outputId": "130db5c8-3fca-4088-abff-f715f4833555",
        "colab": {
          "base_uri": "https://localhost:8080/",
          "height": 35
        }
      },
      "source": [
        "#It means repeating a sequence of instructions a certain number of times.\n",
        "String1 = \"Rajesh\"\n",
        "print(String1*4)"
      ],
      "execution_count": 4,
      "outputs": [
        {
          "output_type": "stream",
          "text": [
            "RajeshRajeshRajeshRajesh\n"
          ],
          "name": "stdout"
        }
      ]
    },
    {
      "cell_type": "code",
      "metadata": {
        "id": "WFeuEqaAog08",
        "outputId": "a605ee0b-5c47-474e-b687-9b8cb0f6bc39",
        "colab": {
          "base_uri": "https://localhost:8080/",
          "height": 54
        }
      },
      "source": [
        "# Python Program for\n",
        "# Escape Sequencing\n",
        "# of String\n",
        "# Initial String\n",
        "String1 = '''I'm a \"Rajesh\"'''\n",
        "print(\"Initial String with use of Triple Quotes: \")\n",
        "print(String1)"
      ],
      "execution_count": 14,
      "outputs": [
        {
          "output_type": "stream",
          "text": [
            "Initial String with use of Triple Quotes: \n",
            "I'm a \"Rajesh\"\n"
          ],
          "name": "stdout"
        }
      ]
    },
    {
      "cell_type": "code",
      "metadata": {
        "id": "kMsKRAl3o-ef",
        "outputId": "b266d340-d1b5-4004-81ee-0e55d27b234c",
        "colab": {
          "base_uri": "https://localhost:8080/",
          "height": 72
        }
      },
      "source": [
        "# Escaping Single Quote\n",
        "String1 = 'I\\'m a \"Rajesh\"'\n",
        "print(\"\\nEscaping Single Quote: \")\n",
        "print(String1)"
      ],
      "execution_count": 16,
      "outputs": [
        {
          "output_type": "stream",
          "text": [
            "\n",
            "Escaping Single Quote: \n",
            "I'm a \"Rajesh\"\n"
          ],
          "name": "stdout"
        }
      ]
    },
    {
      "cell_type": "code",
      "metadata": {
        "id": "o3Y54pQqpPXF",
        "outputId": "24048a67-50bb-4919-c0ca-490601a8dd61",
        "colab": {
          "base_uri": "https://localhost:8080/",
          "height": 72
        }
      },
      "source": [
        "# Escaping Doule Quotes\n",
        "String1 = \"I'm a \\\"Rajesh\\\"\"\n",
        "print(\"\\nEscaping Double Quotes: \")\n",
        "print(String1)"
      ],
      "execution_count": 17,
      "outputs": [
        {
          "output_type": "stream",
          "text": [
            "\n",
            "Escaping Double Quotes: \n",
            "I'm a \"Rajesh\"\n"
          ],
          "name": "stdout"
        }
      ]
    },
    {
      "cell_type": "code",
      "metadata": {
        "id": "K-ujAj8zpWkk",
        "outputId": "12fd3cc0-6c8c-4ac6-bee2-691bc7fad23f",
        "colab": {
          "base_uri": "https://localhost:8080/",
          "height": 72
        }
      },
      "source": [
        "# Printing Paths with the\n",
        "# use of Escape Sequences\n",
        "String1 = \"C:\\\\Python\\\\Rajesh\\\\\"\n",
        "print(\"\\nEscaping Backslashes: \")\n",
        "print(String1)"
      ],
      "execution_count": 18,
      "outputs": [
        {
          "output_type": "stream",
          "text": [
            "\n",
            "Escaping Backslashes: \n",
            "C:\\Python\\Rajesh\\\n"
          ],
          "name": "stdout"
        }
      ]
    },
    {
      "cell_type": "code",
      "metadata": {
        "id": "VxGB7yMfphNC",
        "outputId": "217c2f57-fd14-459b-c0b5-3aafe80d2103",
        "colab": {
          "base_uri": "https://localhost:8080/",
          "height": 35
        }
      },
      "source": [
        "str = \"RajeshBopte\"\n",
        "print(str)"
      ],
      "execution_count": 20,
      "outputs": [
        {
          "output_type": "stream",
          "text": [
            "RajeshBopte\n"
          ],
          "name": "stdout"
        }
      ]
    },
    {
      "cell_type": "code",
      "metadata": {
        "id": "MFBvoVG5p31c",
        "outputId": "09b89ab2-0d2a-44c6-c298-83a8acf9fefb",
        "colab": {
          "base_uri": "https://localhost:8080/",
          "height": 219
        }
      },
      "source": [
        "#Positive Indexing In Python\n",
        "print(str[0])\n",
        "print(str[1])\n",
        "print(str[2])\n",
        "print(str[3])\n",
        "print(str[4])\n",
        "print(str[5])\n",
        "print(str[6])\n",
        "print(str[7])\n",
        "print(str[8])\n",
        "print(str[9])\n",
        "print(str[10])"
      ],
      "execution_count": 23,
      "outputs": [
        {
          "output_type": "stream",
          "text": [
            "R\n",
            "a\n",
            "j\n",
            "e\n",
            "s\n",
            "h\n",
            "B\n",
            "o\n",
            "p\n",
            "t\n",
            "e\n"
          ],
          "name": "stdout"
        }
      ]
    },
    {
      "cell_type": "code",
      "metadata": {
        "id": "Tgcb1p87qKXy",
        "outputId": "d071ea13-cec7-4b79-bc46-1cb534532a73",
        "colab": {
          "base_uri": "https://localhost:8080/",
          "height": 219
        }
      },
      "source": [
        "#Negative Indexing In Python\n",
        "print(str[-1])\n",
        "print(str[-2])\n",
        "print(str[-3])\n",
        "print(str[-4])\n",
        "print(str[-5])\n",
        "print(str[-6])\n",
        "print(str[-7])\n",
        "print(str[-8])\n",
        "print(str[-9])\n",
        "print(str[-10])\n",
        "print(str[0])"
      ],
      "execution_count": 26,
      "outputs": [
        {
          "output_type": "stream",
          "text": [
            "e\n",
            "t\n",
            "p\n",
            "o\n",
            "B\n",
            "h\n",
            "s\n",
            "e\n",
            "j\n",
            "a\n",
            "R\n"
          ],
          "name": "stdout"
        }
      ]
    },
    {
      "cell_type": "code",
      "metadata": {
        "id": "BJUFK5OQqkE4",
        "outputId": "7fbf94fa-62c2-4801-9793-aedf5b4587ea",
        "colab": {
          "base_uri": "https://localhost:8080/",
          "height": 36
        }
      },
      "source": [
        "str[1:4]"
      ],
      "execution_count": 27,
      "outputs": [
        {
          "output_type": "execute_result",
          "data": {
            "application/vnd.google.colaboratory.intrinsic+json": {
              "type": "string"
            },
            "text/plain": [
              "'aje'"
            ]
          },
          "metadata": {
            "tags": []
          },
          "execution_count": 27
        }
      ]
    },
    {
      "cell_type": "code",
      "metadata": {
        "id": "Bsf6uVChqteO",
        "outputId": "fb7f3e3c-593f-4299-8682-688c5d1cb6fc",
        "colab": {
          "base_uri": "https://localhost:8080/",
          "height": 36
        }
      },
      "source": [
        "str[3:]"
      ],
      "execution_count": 28,
      "outputs": [
        {
          "output_type": "execute_result",
          "data": {
            "application/vnd.google.colaboratory.intrinsic+json": {
              "type": "string"
            },
            "text/plain": [
              "'eshBopte'"
            ]
          },
          "metadata": {
            "tags": []
          },
          "execution_count": 28
        }
      ]
    },
    {
      "cell_type": "code",
      "metadata": {
        "id": "ICRuDWb6qyrA",
        "outputId": "9f2004af-db9c-4625-8b95-16a6200c82b5",
        "colab": {
          "base_uri": "https://localhost:8080/",
          "height": 36
        }
      },
      "source": [
        "str[:4]"
      ],
      "execution_count": 29,
      "outputs": [
        {
          "output_type": "execute_result",
          "data": {
            "application/vnd.google.colaboratory.intrinsic+json": {
              "type": "string"
            },
            "text/plain": [
              "'Raje'"
            ]
          },
          "metadata": {
            "tags": []
          },
          "execution_count": 29
        }
      ]
    },
    {
      "cell_type": "code",
      "metadata": {
        "id": "TOPWZp_aq4p2",
        "outputId": "1aa4b423-fabc-486e-c6f1-204c7ae9fc11",
        "colab": {
          "base_uri": "https://localhost:8080/",
          "height": 36
        }
      },
      "source": [
        "str[:]"
      ],
      "execution_count": 30,
      "outputs": [
        {
          "output_type": "execute_result",
          "data": {
            "application/vnd.google.colaboratory.intrinsic+json": {
              "type": "string"
            },
            "text/plain": [
              "'RajeshBopte'"
            ]
          },
          "metadata": {
            "tags": []
          },
          "execution_count": 30
        }
      ]
    },
    {
      "cell_type": "code",
      "metadata": {
        "id": "8cAiTKU0q8nU",
        "outputId": "f9b76bfa-741b-4b25-b8f3-424185e0440d",
        "colab": {
          "base_uri": "https://localhost:8080/",
          "height": 36
        }
      },
      "source": [
        "str[-1:-4]"
      ],
      "execution_count": 31,
      "outputs": [
        {
          "output_type": "execute_result",
          "data": {
            "application/vnd.google.colaboratory.intrinsic+json": {
              "type": "string"
            },
            "text/plain": [
              "''"
            ]
          },
          "metadata": {
            "tags": []
          },
          "execution_count": 31
        }
      ]
    },
    {
      "cell_type": "code",
      "metadata": {
        "id": "TNRgN909rA4U",
        "outputId": "aff18027-3a3a-4a20-9a25-99771edf026a",
        "colab": {
          "base_uri": "https://localhost:8080/",
          "height": 36
        }
      },
      "source": [
        "str[-4:-1]"
      ],
      "execution_count": 32,
      "outputs": [
        {
          "output_type": "execute_result",
          "data": {
            "application/vnd.google.colaboratory.intrinsic+json": {
              "type": "string"
            },
            "text/plain": [
              "'opt'"
            ]
          },
          "metadata": {
            "tags": []
          },
          "execution_count": 32
        }
      ]
    },
    {
      "cell_type": "code",
      "metadata": {
        "id": "uE4Giif8qQHJ",
        "outputId": "bc9d2b67-5ed1-4ccb-8b22-9f97af679bb1",
        "colab": {
          "base_uri": "https://localhost:8080/",
          "height": 36
        }
      },
      "source": [
        "str[1:100]"
      ],
      "execution_count": 33,
      "outputs": [
        {
          "output_type": "execute_result",
          "data": {
            "application/vnd.google.colaboratory.intrinsic+json": {
              "type": "string"
            },
            "text/plain": [
              "'ajeshBopte'"
            ]
          },
          "metadata": {
            "tags": []
          },
          "execution_count": 33
        }
      ]
    },
    {
      "cell_type": "code",
      "metadata": {
        "id": "iWgf4sOcrUab",
        "outputId": "dea22da6-bd77-418a-f0b9-4be5e4a59107",
        "colab": {
          "base_uri": "https://localhost:8080/",
          "height": 36
        }
      },
      "source": [
        "str[1:10:2]"
      ],
      "execution_count": 34,
      "outputs": [
        {
          "output_type": "execute_result",
          "data": {
            "application/vnd.google.colaboratory.intrinsic+json": {
              "type": "string"
            },
            "text/plain": [
              "'aehot'"
            ]
          },
          "metadata": {
            "tags": []
          },
          "execution_count": 34
        }
      ]
    },
    {
      "cell_type": "code",
      "metadata": {
        "id": "L56q67l0rfFy",
        "outputId": "23a51aef-13a3-4738-a6dc-186309e106a5",
        "colab": {
          "base_uri": "https://localhost:8080/",
          "height": 36
        }
      },
      "source": [
        "str[-9:-2:2]"
      ],
      "execution_count": 35,
      "outputs": [
        {
          "output_type": "execute_result",
          "data": {
            "application/vnd.google.colaboratory.intrinsic+json": {
              "type": "string"
            },
            "text/plain": [
              "'jsBp'"
            ]
          },
          "metadata": {
            "tags": []
          },
          "execution_count": 35
        }
      ]
    },
    {
      "cell_type": "code",
      "metadata": {
        "id": "houKJVwirhUg",
        "outputId": "84598282-141d-473d-d694-ae6a276001e5",
        "colab": {
          "base_uri": "https://localhost:8080/",
          "height": 36
        }
      },
      "source": [
        "#capitalize(): Converts the first character of a string to uppercase letters.\n",
        "mystr='rajesh'\n",
        "mystr.capitalize()"
      ],
      "execution_count": 36,
      "outputs": [
        {
          "output_type": "execute_result",
          "data": {
            "application/vnd.google.colaboratory.intrinsic+json": {
              "type": "string"
            },
            "text/plain": [
              "'Rajesh'"
            ]
          },
          "metadata": {
            "tags": []
          },
          "execution_count": 36
        }
      ]
    },
    {
      "cell_type": "code",
      "metadata": {
        "id": "ygM8s1wErtE5",
        "outputId": "424c2f25-2c21-4e4c-b85d-472223ff00a5",
        "colab": {
          "base_uri": "https://localhost:8080/",
          "height": 36
        }
      },
      "source": [
        "#upper() Replaces the lowercase characters in a string with corresponding uppercase characters.\n",
        "mystr='rajesh'\n",
        "mystr.upper()"
      ],
      "execution_count": 38,
      "outputs": [
        {
          "output_type": "execute_result",
          "data": {
            "application/vnd.google.colaboratory.intrinsic+json": {
              "type": "string"
            },
            "text/plain": [
              "'RAJESH'"
            ]
          },
          "metadata": {
            "tags": []
          },
          "execution_count": 38
        }
      ]
    },
    {
      "cell_type": "code",
      "metadata": {
        "id": "UZ8YVLS7r8NH",
        "outputId": "fe026276-7191-4e9d-bb37-c5b17d0bd501",
        "colab": {
          "base_uri": "https://localhost:8080/",
          "height": 36
        }
      },
      "source": [
        "#lower() Replaces the uppercase characters in a string with corresponding lowercase characters.\n",
        "mystr='RAJESH'\n",
        "mystr.lower()"
      ],
      "execution_count": 39,
      "outputs": [
        {
          "output_type": "execute_result",
          "data": {
            "application/vnd.google.colaboratory.intrinsic+json": {
              "type": "string"
            },
            "text/plain": [
              "'rajesh'"
            ]
          },
          "metadata": {
            "tags": []
          },
          "execution_count": 39
        }
      ]
    },
    {
      "cell_type": "code",
      "metadata": {
        "id": "dQxG39zssEPZ",
        "outputId": "e5e4d02c-2989-4309-fec6-7ab4dc72e708",
        "colab": {
          "base_uri": "https://localhost:8080/",
          "height": 36
        }
      },
      "source": [
        "#title():Returns the string with the first character of each word converted to uppercase.\n",
        "mystr='Rajesh is a good boy'\n",
        "mystr.title()"
      ],
      "execution_count": 40,
      "outputs": [
        {
          "output_type": "execute_result",
          "data": {
            "application/vnd.google.colaboratory.intrinsic+json": {
              "type": "string"
            },
            "text/plain": [
              "'Rajesh Is A Good Boy'"
            ]
          },
          "metadata": {
            "tags": []
          },
          "execution_count": 40
        }
      ]
    },
    {
      "cell_type": "code",
      "metadata": {
        "id": "WZRJgNKBsQxI",
        "outputId": "7a88e52b-fd4e-40fd-8d42-5ad4bc80a27f",
        "colab": {
          "base_uri": "https://localhost:8080/",
          "height": 35
        }
      },
      "source": [
        "#find():The find() method finds the first occurrence of a substring in another string. If not found, the method returns -1.\n",
        "mystr='Rajesh is a good boy'\n",
        "mystr.find('Rajesh')"
      ],
      "execution_count": 42,
      "outputs": [
        {
          "output_type": "execute_result",
          "data": {
            "text/plain": [
              "-1"
            ]
          },
          "metadata": {
            "tags": []
          },
          "execution_count": 41
        },
        {
          "output_type": "execute_result",
          "data": {
            "text/plain": [
              "0"
            ]
          },
          "metadata": {
            "tags": []
          },
          "execution_count": 42
        }
      ]
    },
    {
      "cell_type": "code",
      "metadata": {
        "id": "aY_36IXXsy30",
        "outputId": "ada9f16f-8f4b-4b86-b3a8-a81b49e47668",
        "colab": {
          "base_uri": "https://localhost:8080/",
          "height": 35
        }
      },
      "source": [
        "#count():The count() method returns the number of occurrences of a substring in the given string.\n",
        "mystr='Rajesh is a good boy'\n",
        "mystr.count('boy')"
      ],
      "execution_count": 44,
      "outputs": [
        {
          "output_type": "execute_result",
          "data": {
            "text/plain": [
              "1"
            ]
          },
          "metadata": {
            "tags": []
          },
          "execution_count": 44
        }
      ]
    },
    {
      "cell_type": "code",
      "metadata": {
        "id": "VCtq1V4ptVTC",
        "outputId": "40a964cf-ae08-475a-bfa9-261d6d128306",
        "colab": {
          "base_uri": "https://localhost:8080/",
          "height": 35
        }
      },
      "source": [
        "#isalpha():The isalpha() method returns true if all the characters in a string are alphabetic letters (a-z or A-Z), otherwise it returns\n",
        "mystr='RajeshBopte'\n",
        "mystr.isalpha()"
      ],
      "execution_count": 45,
      "outputs": [
        {
          "output_type": "execute_result",
          "data": {
            "text/plain": [
              "True"
            ]
          },
          "metadata": {
            "tags": []
          },
          "execution_count": 45
        }
      ]
    },
    {
      "cell_type": "code",
      "metadata": {
        "id": "RpNpvRZdtAI9",
        "outputId": "0c26e60c-926d-428f-f3b6-28b5ea724d87",
        "colab": {
          "base_uri": "https://localhost:8080/",
          "height": 35
        }
      },
      "source": [
        "#isdigit() The isdigit() is method returns true if all the characters in string are digits (0-9), if not, it returns false.\n",
        "str1='55000'\n",
        "str1.isdigit()"
      ],
      "execution_count": 48,
      "outputs": [
        {
          "output_type": "execute_result",
          "data": {
            "text/plain": [
              "True"
            ]
          },
          "metadata": {
            "tags": []
          },
          "execution_count": 48
        }
      ]
    },
    {
      "cell_type": "code",
      "metadata": {
        "id": "MwFs7p58tmCx",
        "outputId": "6d14aceb-1dd0-4fe8-df50-5c7772cf257a",
        "colab": {
          "base_uri": "https://localhost:8080/",
          "height": 35
        }
      },
      "source": [
        "str2='5,000'\n",
        "str2.isdigit()"
      ],
      "execution_count": 49,
      "outputs": [
        {
          "output_type": "execute_result",
          "data": {
            "text/plain": [
              "False"
            ]
          },
          "metadata": {
            "tags": []
          },
          "execution_count": 49
        }
      ]
    },
    {
      "cell_type": "code",
      "metadata": {
        "id": "DJPEIjpttwLW",
        "outputId": "3104ea2f-2b6f-4535-ed88-660a02c45c54",
        "colab": {
          "base_uri": "https://localhost:8080/",
          "height": 35
        }
      },
      "source": [
        "#islower() The islower() method returns true if all the characters in the string are lowercase characters, else it returns false.\n",
        "str1='rajesh'\n",
        "str1.islower()"
      ],
      "execution_count": 50,
      "outputs": [
        {
          "output_type": "execute_result",
          "data": {
            "text/plain": [
              "True"
            ]
          },
          "metadata": {
            "tags": []
          },
          "execution_count": 50
        }
      ]
    },
    {
      "cell_type": "code",
      "metadata": {
        "id": "4Dts8qwEt21G",
        "outputId": "ef3202af-60bf-41da-bb05-bb941007bcb2",
        "colab": {
          "base_uri": "https://localhost:8080/",
          "height": 35
        }
      },
      "source": [
        "#isupper() The isupper() method returns true if all the characters in the string are uppercase characters, else it returns false.\n",
        "var='RAJESHBOPTE'\n",
        "var.isupper()"
      ],
      "execution_count": 51,
      "outputs": [
        {
          "output_type": "execute_result",
          "data": {
            "text/plain": [
              "True"
            ]
          },
          "metadata": {
            "tags": []
          },
          "execution_count": 51
        }
      ]
    },
    {
      "cell_type": "code",
      "metadata": {
        "id": "VvPGm8j9uDg2",
        "outputId": "9cf54e55-7d07-4871-edab-8f33e755afc3",
        "colab": {
          "base_uri": "https://localhost:8080/",
          "height": 35
        }
      },
      "source": [
        "#isupper() The isupper() method returns true if all the characters in the string are uppercase characters, else it returns false.\n",
        "var='RAJESHbopte'\n",
        "var.isupper()"
      ],
      "execution_count": 52,
      "outputs": [
        {
          "output_type": "execute_result",
          "data": {
            "text/plain": [
              "False"
            ]
          },
          "metadata": {
            "tags": []
          },
          "execution_count": 52
        }
      ]
    },
    {
      "cell_type": "code",
      "metadata": {
        "id": "UEEKVyKhuIw1",
        "outputId": "644d64c9-cd20-4202-f4b9-5b7fb8cc77d9",
        "colab": {
          "base_uri": "https://localhost:8080/",
          "height": 36
        }
      },
      "source": [
        "# '+' Appends the second string to the first\n",
        "a='Rajesh'\n",
        "b='Bopte'\n",
        "a+b"
      ],
      "execution_count": 54,
      "outputs": [
        {
          "output_type": "execute_result",
          "data": {
            "application/vnd.google.colaboratory.intrinsic+json": {
              "type": "string"
            },
            "text/plain": [
              "'RajeshBopte'"
            ]
          },
          "metadata": {
            "tags": []
          },
          "execution_count": 54
        }
      ]
    },
    {
      "cell_type": "code",
      "metadata": {
        "id": "QVdpkrb0uTlm",
        "outputId": "fb472d1a-6cd5-4737-cc70-12c892879048",
        "colab": {
          "base_uri": "https://localhost:8080/",
          "height": 36
        }
      },
      "source": [
        "# '*' Concatenates multiple copies of the same string\n",
        "a='Rajesh'\n",
        "a*5"
      ],
      "execution_count": 56,
      "outputs": [
        {
          "output_type": "execute_result",
          "data": {
            "application/vnd.google.colaboratory.intrinsic+json": {
              "type": "string"
            },
            "text/plain": [
              "'RajeshRajeshRajeshRajeshRajesh'"
            ]
          },
          "metadata": {
            "tags": []
          },
          "execution_count": 56
        }
      ]
    },
    {
      "cell_type": "code",
      "metadata": {
        "id": "DPEMjAphudP5",
        "outputId": "046b5063-236c-4092-bbe5-6d806daa5aae",
        "colab": {
          "base_uri": "https://localhost:8080/",
          "height": 35
        }
      },
      "source": [
        "# 'in' Returns true if a character exists in the given string\n",
        "a = 'RajeshBopte'\n",
        "'X' in a"
      ],
      "execution_count": 57,
      "outputs": [
        {
          "output_type": "execute_result",
          "data": {
            "text/plain": [
              "False"
            ]
          },
          "metadata": {
            "tags": []
          },
          "execution_count": 57
        }
      ]
    }
  ]
}